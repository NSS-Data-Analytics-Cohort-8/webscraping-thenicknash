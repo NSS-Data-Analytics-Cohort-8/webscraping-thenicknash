{
 "cells": [
  {
   "attachments": {},
   "cell_type": "markdown",
   "metadata": {},
   "source": [
    "<h1>Fake Python Web Scraping Practice</h1>"
   ]
  },
  {
   "attachments": {},
   "cell_type": "markdown",
   "metadata": {},
   "source": [
    "<h3>In this exercise, you'll practice using BeautifulSoup to parse the content of a web page. The page that you'll be scraping, https://realpython.github.io/fake-jobs/, contains job listings. Your job is to extract the data on each job and convert into a pandas DataFrame.</h3>"
   ]
  },
  {
   "cell_type": "code",
   "execution_count": 102,
   "metadata": {},
   "outputs": [],
   "source": [
    "from bs4 import BeautifulSoup as bs\n",
    "import pandas as pd\n",
    "import requests"
   ]
  },
  {
   "attachments": {},
   "cell_type": "markdown",
   "metadata": {},
   "source": [
    "<h3>1. Start by performing a GET request on the url above and convert the response into a BeautifulSoup object.</h3>"
   ]
  },
  {
   "cell_type": "code",
   "execution_count": 103,
   "metadata": {},
   "outputs": [],
   "source": [
    "URL = 'https://realpython.github.io/fake-jobs/'\n",
    "\n",
    "response = requests.get(URL)\n",
    "\n",
    "fake_python_soup = bs(response.text)"
   ]
  },
  {
   "attachments": {},
   "cell_type": "markdown",
   "metadata": {},
   "source": [
    "<h4>Use the .find method to find the tag containing the first job title (\"Senior Python Developer\"). Hint: can you find a tag type and/or a class that could be helpful for extracting this information? Extract the text from this title.</h4>"
   ]
  },
  {
   "cell_type": "code",
   "execution_count": 104,
   "metadata": {},
   "outputs": [
    {
     "data": {
      "text/plain": [
       "'Senior Python Developer'"
      ]
     },
     "execution_count": 104,
     "metadata": {},
     "output_type": "execute_result"
    }
   ],
   "source": [
    "fake_python_soup.find('h2', attrs={'class' : 'title'}).text.strip()"
   ]
  },
  {
   "attachments": {},
   "cell_type": "markdown",
   "metadata": {},
   "source": [
    "<h4>Now, use what you did for the first title, but extract the job title for all jobs on this page. Store the results in a list.</h4>"
   ]
  },
  {
   "cell_type": "code",
   "execution_count": 105,
   "metadata": {},
   "outputs": [
    {
     "name": "stdout",
     "output_type": "stream",
     "text": [
      "['Senior Python Developer', 'Energy engineer', 'Legal executive', 'Fitness centre manager', 'Product manager', 'Medical technical officer', 'Physiological scientist', 'Textile designer', 'Television floor manager', 'Waste management officer', 'Software Engineer (Python)', 'Interpreter', 'Architect', 'Meteorologist', 'Audiological scientist', 'English as a second language teacher', 'Surgeon', 'Equities trader', 'Newspaper journalist', 'Materials engineer', 'Python Programmer (Entry-Level)', 'Product/process development scientist', 'Scientist, research (maths)', 'Ecologist', 'Materials engineer', 'Historic buildings inspector/conservation officer', 'Data scientist', 'Psychiatrist', 'Structural engineer', 'Immigration officer', 'Python Programmer (Entry-Level)', 'Neurosurgeon', 'Broadcast engineer', 'Make', 'Nurse, adult', 'Air broker', 'Editor, film/video', 'Production assistant, radio', 'Engineer, communications', 'Sales executive', 'Software Developer (Python)', 'Futures trader', 'Tour manager', 'Cytogeneticist', 'Designer, multimedia', 'Trade union research officer', 'Chemist, analytical', 'Programmer, multimedia', 'Engineer, broadcasting (operations)', 'Teacher, primary school', 'Python Developer', 'Manufacturing systems engineer', 'Producer, television/film/video', 'Scientist, forensic', 'Bonds trader', 'Editorial assistant', 'Photographer', 'Retail banker', 'Jewellery designer', 'Ophthalmologist', 'Back-End Web Developer (Python, Django)', 'Licensed conveyancer', 'Futures trader', 'Counselling psychologist', 'Insurance underwriter', 'Engineer, automotive', 'Producer, radio', 'Dispensing optician', 'Designer, fashion/clothing', 'Chartered loss adjuster', 'Back-End Web Developer (Python, Django)', 'Forest/woodland manager', 'Clinical cytogeneticist', 'Print production planner', 'Systems developer', 'Graphic designer', 'Writer', 'Field seismologist', 'Chief Strategy Officer', 'Air cabin crew', 'Python Programmer (Entry-Level)', 'Warden/ranger', 'Sports therapist', 'Arts development officer', 'Printmaker', 'Health and safety adviser', 'Manufacturing systems engineer', 'Programmer, applications', 'Medical physicist', 'Media planner', 'Software Developer (Python)', 'Surveyor, land/geomatics', 'Legal executive', 'Librarian, academic', 'Barrister', 'Museum/gallery exhibitions officer', 'Radiographer, diagnostic', 'Database administrator', 'Furniture designer', 'Ship broker']\n"
     ]
    }
   ],
   "source": [
    "job_title_tags = fake_python_soup.findAll('h2', attrs={'class' : 'title'})\n",
    "\n",
    "job_titles = [job_title_tag.text for job_title_tag in job_title_tags]\n",
    "\n",
    "print(job_titles)"
   ]
  },
  {
   "attachments": {},
   "cell_type": "markdown",
   "metadata": {},
   "source": [
    "<h4>Finally, extract the companies, locations, and posting dates for each job. For example, the first job has a company of \"Payne, Roberts and Davis\", a location of \"Stewartbury, AA\", and a posting date of \"2021-04-08\". Ensure that the text that you extract is clean, meaning no extra spaces or other characters at the beginning or end.</h4>"
   ]
  },
  {
   "cell_type": "code",
   "execution_count": 106,
   "metadata": {},
   "outputs": [
    {
     "name": "stdout",
     "output_type": "stream",
     "text": [
      "['Payne, Roberts and Davis', 'Vasquez-Davidson', 'Jackson, Chambers and Levy', 'Savage-Bradley', 'Ramirez Inc', 'Rogers-Yates', 'Kramer-Klein', 'Meyers-Johnson', 'Hughes-Williams', 'Jones, Williams and Villa', 'Garcia PLC', 'Gregory and Sons', 'Clark, Garcia and Sosa', 'Bush PLC', 'Salazar-Meyers', 'Parker, Murphy and Brooks', 'Cruz-Brown', 'Macdonald-Ferguson', 'Williams, Peterson and Rojas', 'Smith and Sons', 'Moss, Duncan and Allen', 'Gomez-Carroll', 'Manning, Welch and Herring', 'Lee, Gutierrez and Brown', 'Davis, Serrano and Cook', 'Smith LLC', 'Thomas Group', 'Silva-King', 'Pierce-Long', 'Walker-Simpson', 'Cooper and Sons', 'Donovan, Gonzalez and Figueroa', 'Morgan, Butler and Bennett', 'Snyder-Lee', 'Harris PLC', 'Washington PLC', 'Brown, Price and Campbell', 'Mcgee PLC', 'Dixon Inc', 'Thompson, Sheppard and Ward', 'Adams-Brewer', 'Schneider-Brady', 'Gonzales-Frank', 'Smith-Wong', 'Pierce-Herrera', 'Aguilar, Rivera and Quinn', 'Lowe, Barnes and Thomas', 'Lewis, Gonzalez and Vasquez', 'Taylor PLC', 'Oliver, Jones and Ramirez', 'Rivera and Sons', 'Garcia PLC', 'Johnson, Wells and Kramer', 'Gonzalez LLC', 'Morgan, White and Macdonald', 'Robinson-Fitzpatrick', 'Waters, Wilson and Hoover', 'Hill LLC', 'Li-Gregory', 'Fisher, Ryan and Coleman', 'Stewart-Alexander', 'Abbott and Sons', 'Bryant, Santana and Davenport', 'Smith PLC', 'Patterson-Singh', 'Martinez-Berry', 'May, Taylor and Fisher', 'Bailey, Owen and Thompson', 'Vasquez Ltd', 'Leblanc LLC', 'Jackson, Ali and Mckee', 'Blankenship, Knight and Powell', 'Patton, Haynes and Jones', 'Wood Inc', 'Collins Group', 'Flores-Nelson', 'Mitchell, Jones and Olson', 'Howard Group', 'Kramer-Edwards', 'Berry-Houston', 'Mathews Inc', 'Riley-Johnson', 'Spencer and Sons', 'Camacho-Sanchez', 'Oliver and Sons', 'Eaton PLC', 'Stanley-Frederick', 'Bradley LLC', 'Parker, Goodwin and Zavala', 'Kim-Miles', 'Moreno-Rodriguez', 'Brown-Ortiz', 'Hartman PLC', 'Brooks Inc', 'Washington-Castillo', 'Nguyen, Yoder and Petty', 'Holder LLC', 'Yates-Ferguson', 'Ortega-Lawrence', 'Fuentes, Walls and Castro']\n",
      "['Stewartbury, AA', 'Christopherville, AA', 'Port Ericaburgh, AA', 'East Seanview, AP', 'North Jamieview, AP', 'Davidville, AP', 'South Christopher, AE', 'Port Jonathan, AE', 'Osbornetown, AE', 'Scotttown, AP', 'Ericberg, AE', 'Ramireztown, AE', 'Figueroaview, AA', 'Kelseystad, AA', 'Williamsburgh, AE', 'Mitchellburgh, AE', 'West Jessicabury, AA', 'Maloneshire, AE', 'Johnsonton, AA', 'South Davidtown, AP', 'Port Sara, AE', 'Marktown, AA', 'Laurenland, AE', 'Lauraton, AP', 'South Tammyberg, AP', 'North Brandonville, AP', 'Port Robertfurt, AA', 'Burnettbury, AE', 'Herbertside, AA', 'Christopherport, AP', 'West Victor, AE', 'Port Aaron, AP', 'Loribury, AA', 'Angelastad, AP', 'Larrytown, AE', 'West Colin, AP', 'West Stephanie, AP', 'Laurentown, AP', 'Wrightberg, AP', 'Alberttown, AE', 'Brockburgh, AE', 'North Jason, AE', 'Arnoldhaven, AE', 'Lake Destiny, AP', 'South Timothyburgh, AP', 'New Jimmyton, AE', 'New Lucasbury, AP', 'Port Cory, AE', 'Gileston, AA', 'Cindyshire, AA', 'East Michaelfort, AA', 'Joybury, AE', 'Emmatown, AE', 'Colehaven, AP', 'Port Coryton, AE', 'Amyborough, AA', 'Reynoldsville, AA', 'Port Billy, AP', 'Adamburgh, AA', 'Wilsonmouth, AA', 'South Kimberly, AA', 'Benjaminland, AP', 'Zacharyport, AA', 'Port Devonville, AE', 'East Thomas, AE', 'New Jeffrey, AP', 'Davidside, AA', 'Jamesville, AA', 'New Kelly, AP', 'Lake Antonio, AA', 'New Elizabethside, AA', 'Millsbury, AE', 'Lloydton, AP', 'Port Jeremy, AA', 'New Elizabethtown, AA', 'Charlesstad, AE', 'Josephbury, AE', 'Seanfurt, AA', 'Williambury, AA', 'South Jorgeside, AP', 'Robertborough, AP', 'South Saratown, AP', 'Hullview, AA', 'Philipland, AP', 'North Patty, AE', 'North Stephen, AE', 'Stevensland, AP', 'Reyesstad, AE', 'Bellberg, AP', 'North Johnland, AE', 'Martinezburgh, AE', 'Joshuatown, AE', 'West Ericstad, AA', 'Tuckertown, AE', 'Perezton, AE', 'Lake Abigail, AE', 'Jacobshire, AP', 'Port Susan, AE', 'North Tiffany, AA', 'Michelleville, AP']\n",
      "['2021-04-08', '2021-04-08', '2021-04-08', '2021-04-08', '2021-04-08', '2021-04-08', '2021-04-08', '2021-04-08', '2021-04-08', '2021-04-08', '2021-04-08', '2021-04-08', '2021-04-08', '2021-04-08', '2021-04-08', '2021-04-08', '2021-04-08', '2021-04-08', '2021-04-08', '2021-04-08', '2021-04-08', '2021-04-08', '2021-04-08', '2021-04-08', '2021-04-08', '2021-04-08', '2021-04-08', '2021-04-08', '2021-04-08', '2021-04-08', '2021-04-08', '2021-04-08', '2021-04-08', '2021-04-08', '2021-04-08', '2021-04-08', '2021-04-08', '2021-04-08', '2021-04-08', '2021-04-08', '2021-04-08', '2021-04-08', '2021-04-08', '2021-04-08', '2021-04-08', '2021-04-08', '2021-04-08', '2021-04-08', '2021-04-08', '2021-04-08', '2021-04-08', '2021-04-08', '2021-04-08', '2021-04-08', '2021-04-08', '2021-04-08', '2021-04-08', '2021-04-08', '2021-04-08', '2021-04-08', '2021-04-08', '2021-04-08', '2021-04-08', '2021-04-08', '2021-04-08', '2021-04-08', '2021-04-08', '2021-04-08', '2021-04-08', '2021-04-08', '2021-04-08', '2021-04-08', '2021-04-08', '2021-04-08', '2021-04-08', '2021-04-08', '2021-04-08', '2021-04-08', '2021-04-08', '2021-04-08', '2021-04-08', '2021-04-08', '2021-04-08', '2021-04-08', '2021-04-08', '2021-04-08', '2021-04-08', '2021-04-08', '2021-04-08', '2021-04-08', '2021-04-08', '2021-04-08', '2021-04-08', '2021-04-08', '2021-04-08', '2021-04-08', '2021-04-08', '2021-04-08', '2021-04-08', '2021-04-08']\n"
     ]
    }
   ],
   "source": [
    "company_tags = fake_python_soup.findAll('h3', attrs={'class' : 'company'})\n",
    "location_tags = fake_python_soup.findAll('p', attrs={'class' : 'location'})\n",
    "posting_date_tags = fake_python_soup.findAll('time')\n",
    "\n",
    "companies = [company_tag.text.strip() for company_tag in company_tags]\n",
    "locations = [location_tag.text.strip() for location_tag in location_tags]\n",
    "posting_dates = [posting_date_tag.text.strip() for posting_date_tag in posting_date_tags]\n",
    "\n",
    "print(companies)\n",
    "print(locations)\n",
    "print(posting_dates)"
   ]
  },
  {
   "attachments": {},
   "cell_type": "markdown",
   "metadata": {},
   "source": [
    "<h4>Take the lists that you have created and combine them into a pandas DataFrame.</h4>"
   ]
  },
  {
   "cell_type": "code",
   "execution_count": 107,
   "metadata": {},
   "outputs": [
    {
     "data": {
      "text/html": [
       "<div>\n",
       "<style scoped>\n",
       "    .dataframe tbody tr th:only-of-type {\n",
       "        vertical-align: middle;\n",
       "    }\n",
       "\n",
       "    .dataframe tbody tr th {\n",
       "        vertical-align: top;\n",
       "    }\n",
       "\n",
       "    .dataframe thead th {\n",
       "        text-align: right;\n",
       "    }\n",
       "</style>\n",
       "<table border=\"1\" class=\"dataframe\">\n",
       "  <thead>\n",
       "    <tr style=\"text-align: right;\">\n",
       "      <th></th>\n",
       "      <th>Job Title</th>\n",
       "      <th>Company Name</th>\n",
       "      <th>Location</th>\n",
       "      <th>Posting Date</th>\n",
       "    </tr>\n",
       "  </thead>\n",
       "  <tbody>\n",
       "    <tr>\n",
       "      <th>0</th>\n",
       "      <td>Senior Python Developer</td>\n",
       "      <td>Payne, Roberts and Davis</td>\n",
       "      <td>Stewartbury, AA</td>\n",
       "      <td>2021-04-08</td>\n",
       "    </tr>\n",
       "    <tr>\n",
       "      <th>1</th>\n",
       "      <td>Energy engineer</td>\n",
       "      <td>Vasquez-Davidson</td>\n",
       "      <td>Christopherville, AA</td>\n",
       "      <td>2021-04-08</td>\n",
       "    </tr>\n",
       "    <tr>\n",
       "      <th>2</th>\n",
       "      <td>Legal executive</td>\n",
       "      <td>Jackson, Chambers and Levy</td>\n",
       "      <td>Port Ericaburgh, AA</td>\n",
       "      <td>2021-04-08</td>\n",
       "    </tr>\n",
       "    <tr>\n",
       "      <th>3</th>\n",
       "      <td>Fitness centre manager</td>\n",
       "      <td>Savage-Bradley</td>\n",
       "      <td>East Seanview, AP</td>\n",
       "      <td>2021-04-08</td>\n",
       "    </tr>\n",
       "    <tr>\n",
       "      <th>4</th>\n",
       "      <td>Product manager</td>\n",
       "      <td>Ramirez Inc</td>\n",
       "      <td>North Jamieview, AP</td>\n",
       "      <td>2021-04-08</td>\n",
       "    </tr>\n",
       "    <tr>\n",
       "      <th>...</th>\n",
       "      <td>...</td>\n",
       "      <td>...</td>\n",
       "      <td>...</td>\n",
       "      <td>...</td>\n",
       "    </tr>\n",
       "    <tr>\n",
       "      <th>95</th>\n",
       "      <td>Museum/gallery exhibitions officer</td>\n",
       "      <td>Nguyen, Yoder and Petty</td>\n",
       "      <td>Lake Abigail, AE</td>\n",
       "      <td>2021-04-08</td>\n",
       "    </tr>\n",
       "    <tr>\n",
       "      <th>96</th>\n",
       "      <td>Radiographer, diagnostic</td>\n",
       "      <td>Holder LLC</td>\n",
       "      <td>Jacobshire, AP</td>\n",
       "      <td>2021-04-08</td>\n",
       "    </tr>\n",
       "    <tr>\n",
       "      <th>97</th>\n",
       "      <td>Database administrator</td>\n",
       "      <td>Yates-Ferguson</td>\n",
       "      <td>Port Susan, AE</td>\n",
       "      <td>2021-04-08</td>\n",
       "    </tr>\n",
       "    <tr>\n",
       "      <th>98</th>\n",
       "      <td>Furniture designer</td>\n",
       "      <td>Ortega-Lawrence</td>\n",
       "      <td>North Tiffany, AA</td>\n",
       "      <td>2021-04-08</td>\n",
       "    </tr>\n",
       "    <tr>\n",
       "      <th>99</th>\n",
       "      <td>Ship broker</td>\n",
       "      <td>Fuentes, Walls and Castro</td>\n",
       "      <td>Michelleville, AP</td>\n",
       "      <td>2021-04-08</td>\n",
       "    </tr>\n",
       "  </tbody>\n",
       "</table>\n",
       "<p>100 rows × 4 columns</p>\n",
       "</div>"
      ],
      "text/plain": [
       "                             Job Title                Company Name  \\\n",
       "0              Senior Python Developer    Payne, Roberts and Davis   \n",
       "1                      Energy engineer            Vasquez-Davidson   \n",
       "2                      Legal executive  Jackson, Chambers and Levy   \n",
       "3               Fitness centre manager              Savage-Bradley   \n",
       "4                      Product manager                 Ramirez Inc   \n",
       "..                                 ...                         ...   \n",
       "95  Museum/gallery exhibitions officer     Nguyen, Yoder and Petty   \n",
       "96            Radiographer, diagnostic                  Holder LLC   \n",
       "97              Database administrator              Yates-Ferguson   \n",
       "98                  Furniture designer             Ortega-Lawrence   \n",
       "99                         Ship broker   Fuentes, Walls and Castro   \n",
       "\n",
       "                Location Posting Date  \n",
       "0        Stewartbury, AA   2021-04-08  \n",
       "1   Christopherville, AA   2021-04-08  \n",
       "2    Port Ericaburgh, AA   2021-04-08  \n",
       "3      East Seanview, AP   2021-04-08  \n",
       "4    North Jamieview, AP   2021-04-08  \n",
       "..                   ...          ...  \n",
       "95      Lake Abigail, AE   2021-04-08  \n",
       "96        Jacobshire, AP   2021-04-08  \n",
       "97        Port Susan, AE   2021-04-08  \n",
       "98     North Tiffany, AA   2021-04-08  \n",
       "99     Michelleville, AP   2021-04-08  \n",
       "\n",
       "[100 rows x 4 columns]"
      ]
     },
     "execution_count": 107,
     "metadata": {},
     "output_type": "execute_result"
    }
   ],
   "source": [
    "fake_python_jobs_df = pd.DataFrame({\n",
    "    'Job Title' : job_titles,\n",
    "    'Company Name' : companies,\n",
    "    'Location' : locations,\n",
    "    'Posting Date' : posting_dates\n",
    "})\n",
    "\n",
    "fake_python_jobs_df"
   ]
  },
  {
   "attachments": {},
   "cell_type": "markdown",
   "metadata": {},
   "source": [
    "<h3>2. Next, add a column that contains the url for the \"Apply\" button. Try this in two ways.</h3>"
   ]
  },
  {
   "attachments": {},
   "cell_type": "markdown",
   "metadata": {},
   "source": [
    "<h4>First, use the BeautifulSoup find_all method to extract the urls.</h4>"
   ]
  },
  {
   "cell_type": "code",
   "execution_count": 108,
   "metadata": {},
   "outputs": [],
   "source": [
    "all_link_tags = fake_python_soup.find_all('a', attrs={'class' : 'card-footer-item'})\n",
    "all_link_hrefs = [link.get('href') for link in all_link_tags]\n",
    "apply_links_1 = [link for link in all_link_hrefs[1::2]]"
   ]
  },
  {
   "attachments": {},
   "cell_type": "markdown",
   "metadata": {},
   "source": [
    "<h4>Next, get those same urls in a different way. Examine the urls and see if you can spot the pattern of how they are constructed. Then, build the url using the elements you have already extracted. Ensure that the urls that you created match those that you extracted using BeautifulSoup. Warning: You will need to do some string cleaning and prep in constructing the urls this way. For example, look carefully at the urls for the \"Software Engineer (Python)\" job and the \"Scientist, research (maths)\" job.</h4>"
   ]
  },
  {
   "cell_type": "code",
   "execution_count": 109,
   "metadata": {},
   "outputs": [
    {
     "name": "stdout",
     "output_type": "stream",
     "text": [
      "['https://realpython.github.io/fake-jobs/jobs/senior-python-developer-0.html', 'https://realpython.github.io/fake-jobs/jobs/energy-engineer-1.html', 'https://realpython.github.io/fake-jobs/jobs/legal-executive-2.html', 'https://realpython.github.io/fake-jobs/jobs/fitness-centre-manager-3.html', 'https://realpython.github.io/fake-jobs/jobs/product-manager-4.html', 'https://realpython.github.io/fake-jobs/jobs/medical-technical-officer-5.html', 'https://realpython.github.io/fake-jobs/jobs/physiological-scientist-6.html', 'https://realpython.github.io/fake-jobs/jobs/textile-designer-7.html', 'https://realpython.github.io/fake-jobs/jobs/television-floor-manager-8.html', 'https://realpython.github.io/fake-jobs/jobs/waste-management-officer-9.html', 'https://realpython.github.io/fake-jobs/jobs/software-engineer-python-10.html', 'https://realpython.github.io/fake-jobs/jobs/interpreter-11.html', 'https://realpython.github.io/fake-jobs/jobs/architect-12.html', 'https://realpython.github.io/fake-jobs/jobs/meteorologist-13.html', 'https://realpython.github.io/fake-jobs/jobs/audiological-scientist-14.html', 'https://realpython.github.io/fake-jobs/jobs/english-as-a-second-language-teacher-15.html', 'https://realpython.github.io/fake-jobs/jobs/surgeon-16.html', 'https://realpython.github.io/fake-jobs/jobs/equities-trader-17.html', 'https://realpython.github.io/fake-jobs/jobs/newspaper-journalist-18.html', 'https://realpython.github.io/fake-jobs/jobs/materials-engineer-19.html', 'https://realpython.github.io/fake-jobs/jobs/python-programmer-entry-level-20.html', 'https://realpython.github.io/fake-jobs/jobs/product-process-development-scientist-21.html', 'https://realpython.github.io/fake-jobs/jobs/scientist-research-maths-22.html', 'https://realpython.github.io/fake-jobs/jobs/ecologist-23.html', 'https://realpython.github.io/fake-jobs/jobs/materials-engineer-24.html', 'https://realpython.github.io/fake-jobs/jobs/historic-buildings-inspector-conservation-officer-25.html', 'https://realpython.github.io/fake-jobs/jobs/data-scientist-26.html', 'https://realpython.github.io/fake-jobs/jobs/psychiatrist-27.html', 'https://realpython.github.io/fake-jobs/jobs/structural-engineer-28.html', 'https://realpython.github.io/fake-jobs/jobs/immigration-officer-29.html', 'https://realpython.github.io/fake-jobs/jobs/python-programmer-entry-level-30.html', 'https://realpython.github.io/fake-jobs/jobs/neurosurgeon-31.html', 'https://realpython.github.io/fake-jobs/jobs/broadcast-engineer-32.html', 'https://realpython.github.io/fake-jobs/jobs/make-33.html', 'https://realpython.github.io/fake-jobs/jobs/nurse-adult-34.html', 'https://realpython.github.io/fake-jobs/jobs/air-broker-35.html', 'https://realpython.github.io/fake-jobs/jobs/editor-film-video-36.html', 'https://realpython.github.io/fake-jobs/jobs/production-assistant-radio-37.html', 'https://realpython.github.io/fake-jobs/jobs/engineer-communications-38.html', 'https://realpython.github.io/fake-jobs/jobs/sales-executive-39.html', 'https://realpython.github.io/fake-jobs/jobs/software-developer-python-40.html', 'https://realpython.github.io/fake-jobs/jobs/futures-trader-41.html', 'https://realpython.github.io/fake-jobs/jobs/tour-manager-42.html', 'https://realpython.github.io/fake-jobs/jobs/cytogeneticist-43.html', 'https://realpython.github.io/fake-jobs/jobs/designer-multimedia-44.html', 'https://realpython.github.io/fake-jobs/jobs/trade-union-research-officer-45.html', 'https://realpython.github.io/fake-jobs/jobs/chemist-analytical-46.html', 'https://realpython.github.io/fake-jobs/jobs/programmer-multimedia-47.html', 'https://realpython.github.io/fake-jobs/jobs/engineer-broadcasting-operations-48.html', 'https://realpython.github.io/fake-jobs/jobs/teacher-primary-school-49.html', 'https://realpython.github.io/fake-jobs/jobs/python-developer-50.html', 'https://realpython.github.io/fake-jobs/jobs/manufacturing-systems-engineer-51.html', 'https://realpython.github.io/fake-jobs/jobs/producer-television-film-video-52.html', 'https://realpython.github.io/fake-jobs/jobs/scientist-forensic-53.html', 'https://realpython.github.io/fake-jobs/jobs/bonds-trader-54.html', 'https://realpython.github.io/fake-jobs/jobs/editorial-assistant-55.html', 'https://realpython.github.io/fake-jobs/jobs/photographer-56.html', 'https://realpython.github.io/fake-jobs/jobs/retail-banker-57.html', 'https://realpython.github.io/fake-jobs/jobs/jewellery-designer-58.html', 'https://realpython.github.io/fake-jobs/jobs/ophthalmologist-59.html', 'https://realpython.github.io/fake-jobs/jobs/back-end-web-developer-python-django-60.html', 'https://realpython.github.io/fake-jobs/jobs/licensed-conveyancer-61.html', 'https://realpython.github.io/fake-jobs/jobs/futures-trader-62.html', 'https://realpython.github.io/fake-jobs/jobs/counselling-psychologist-63.html', 'https://realpython.github.io/fake-jobs/jobs/insurance-underwriter-64.html', 'https://realpython.github.io/fake-jobs/jobs/engineer-automotive-65.html', 'https://realpython.github.io/fake-jobs/jobs/producer-radio-66.html', 'https://realpython.github.io/fake-jobs/jobs/dispensing-optician-67.html', 'https://realpython.github.io/fake-jobs/jobs/designer-fashion-clothing-68.html', 'https://realpython.github.io/fake-jobs/jobs/chartered-loss-adjuster-69.html', 'https://realpython.github.io/fake-jobs/jobs/back-end-web-developer-python-django-70.html', 'https://realpython.github.io/fake-jobs/jobs/forest-woodland-manager-71.html', 'https://realpython.github.io/fake-jobs/jobs/clinical-cytogeneticist-72.html', 'https://realpython.github.io/fake-jobs/jobs/print-production-planner-73.html', 'https://realpython.github.io/fake-jobs/jobs/systems-developer-74.html', 'https://realpython.github.io/fake-jobs/jobs/graphic-designer-75.html', 'https://realpython.github.io/fake-jobs/jobs/writer-76.html', 'https://realpython.github.io/fake-jobs/jobs/field-seismologist-77.html', 'https://realpython.github.io/fake-jobs/jobs/chief-strategy-officer-78.html', 'https://realpython.github.io/fake-jobs/jobs/air-cabin-crew-79.html', 'https://realpython.github.io/fake-jobs/jobs/python-programmer-entry-level-80.html', 'https://realpython.github.io/fake-jobs/jobs/warden-ranger-81.html', 'https://realpython.github.io/fake-jobs/jobs/sports-therapist-82.html', 'https://realpython.github.io/fake-jobs/jobs/arts-development-officer-83.html', 'https://realpython.github.io/fake-jobs/jobs/printmaker-84.html', 'https://realpython.github.io/fake-jobs/jobs/health-and-safety-adviser-85.html', 'https://realpython.github.io/fake-jobs/jobs/manufacturing-systems-engineer-86.html', 'https://realpython.github.io/fake-jobs/jobs/programmer-applications-87.html', 'https://realpython.github.io/fake-jobs/jobs/medical-physicist-88.html', 'https://realpython.github.io/fake-jobs/jobs/media-planner-89.html', 'https://realpython.github.io/fake-jobs/jobs/software-developer-python-90.html', 'https://realpython.github.io/fake-jobs/jobs/surveyor-land-geomatics-91.html', 'https://realpython.github.io/fake-jobs/jobs/legal-executive-92.html', 'https://realpython.github.io/fake-jobs/jobs/librarian-academic-93.html', 'https://realpython.github.io/fake-jobs/jobs/barrister-94.html', 'https://realpython.github.io/fake-jobs/jobs/museum-gallery-exhibitions-officer-95.html', 'https://realpython.github.io/fake-jobs/jobs/radiographer-diagnostic-96.html', 'https://realpython.github.io/fake-jobs/jobs/database-administrator-97.html', 'https://realpython.github.io/fake-jobs/jobs/furniture-designer-98.html', 'https://realpython.github.io/fake-jobs/jobs/ship-broker-99.html']\n",
      "['https://realpython.github.io/fake-jobs/jobs/senior-python-developer-0.html', 'https://realpython.github.io/fake-jobs/jobs/energy-engineer-1.html', 'https://realpython.github.io/fake-jobs/jobs/legal-executive-2.html', 'https://realpython.github.io/fake-jobs/jobs/fitness-centre-manager-3.html', 'https://realpython.github.io/fake-jobs/jobs/product-manager-4.html', 'https://realpython.github.io/fake-jobs/jobs/medical-technical-officer-5.html', 'https://realpython.github.io/fake-jobs/jobs/physiological-scientist-6.html', 'https://realpython.github.io/fake-jobs/jobs/textile-designer-7.html', 'https://realpython.github.io/fake-jobs/jobs/television-floor-manager-8.html', 'https://realpython.github.io/fake-jobs/jobs/waste-management-officer-9.html', 'https://realpython.github.io/fake-jobs/jobs/software-engineer-python-10.html', 'https://realpython.github.io/fake-jobs/jobs/interpreter-11.html', 'https://realpython.github.io/fake-jobs/jobs/architect-12.html', 'https://realpython.github.io/fake-jobs/jobs/meteorologist-13.html', 'https://realpython.github.io/fake-jobs/jobs/audiological-scientist-14.html', 'https://realpython.github.io/fake-jobs/jobs/english-as-a-second-language-teacher-15.html', 'https://realpython.github.io/fake-jobs/jobs/surgeon-16.html', 'https://realpython.github.io/fake-jobs/jobs/equities-trader-17.html', 'https://realpython.github.io/fake-jobs/jobs/newspaper-journalist-18.html', 'https://realpython.github.io/fake-jobs/jobs/materials-engineer-19.html', 'https://realpython.github.io/fake-jobs/jobs/python-programmer-entry-level-20.html', 'https://realpython.github.io/fake-jobs/jobs/product-process-development-scientist-21.html', 'https://realpython.github.io/fake-jobs/jobs/scientist-research-maths-22.html', 'https://realpython.github.io/fake-jobs/jobs/ecologist-23.html', 'https://realpython.github.io/fake-jobs/jobs/materials-engineer-24.html', 'https://realpython.github.io/fake-jobs/jobs/historic-buildings-inspector-conservation-officer-25.html', 'https://realpython.github.io/fake-jobs/jobs/data-scientist-26.html', 'https://realpython.github.io/fake-jobs/jobs/psychiatrist-27.html', 'https://realpython.github.io/fake-jobs/jobs/structural-engineer-28.html', 'https://realpython.github.io/fake-jobs/jobs/immigration-officer-29.html', 'https://realpython.github.io/fake-jobs/jobs/python-programmer-entry-level-30.html', 'https://realpython.github.io/fake-jobs/jobs/neurosurgeon-31.html', 'https://realpython.github.io/fake-jobs/jobs/broadcast-engineer-32.html', 'https://realpython.github.io/fake-jobs/jobs/make-33.html', 'https://realpython.github.io/fake-jobs/jobs/nurse-adult-34.html', 'https://realpython.github.io/fake-jobs/jobs/air-broker-35.html', 'https://realpython.github.io/fake-jobs/jobs/editor-film-video-36.html', 'https://realpython.github.io/fake-jobs/jobs/production-assistant-radio-37.html', 'https://realpython.github.io/fake-jobs/jobs/engineer-communications-38.html', 'https://realpython.github.io/fake-jobs/jobs/sales-executive-39.html', 'https://realpython.github.io/fake-jobs/jobs/software-developer-python-40.html', 'https://realpython.github.io/fake-jobs/jobs/futures-trader-41.html', 'https://realpython.github.io/fake-jobs/jobs/tour-manager-42.html', 'https://realpython.github.io/fake-jobs/jobs/cytogeneticist-43.html', 'https://realpython.github.io/fake-jobs/jobs/designer-multimedia-44.html', 'https://realpython.github.io/fake-jobs/jobs/trade-union-research-officer-45.html', 'https://realpython.github.io/fake-jobs/jobs/chemist-analytical-46.html', 'https://realpython.github.io/fake-jobs/jobs/programmer-multimedia-47.html', 'https://realpython.github.io/fake-jobs/jobs/engineer-broadcasting-operations-48.html', 'https://realpython.github.io/fake-jobs/jobs/teacher-primary-school-49.html', 'https://realpython.github.io/fake-jobs/jobs/python-developer-50.html', 'https://realpython.github.io/fake-jobs/jobs/manufacturing-systems-engineer-51.html', 'https://realpython.github.io/fake-jobs/jobs/producer-television-film-video-52.html', 'https://realpython.github.io/fake-jobs/jobs/scientist-forensic-53.html', 'https://realpython.github.io/fake-jobs/jobs/bonds-trader-54.html', 'https://realpython.github.io/fake-jobs/jobs/editorial-assistant-55.html', 'https://realpython.github.io/fake-jobs/jobs/photographer-56.html', 'https://realpython.github.io/fake-jobs/jobs/retail-banker-57.html', 'https://realpython.github.io/fake-jobs/jobs/jewellery-designer-58.html', 'https://realpython.github.io/fake-jobs/jobs/ophthalmologist-59.html', 'https://realpython.github.io/fake-jobs/jobs/back-end-web-developer-python-django-60.html', 'https://realpython.github.io/fake-jobs/jobs/licensed-conveyancer-61.html', 'https://realpython.github.io/fake-jobs/jobs/futures-trader-62.html', 'https://realpython.github.io/fake-jobs/jobs/counselling-psychologist-63.html', 'https://realpython.github.io/fake-jobs/jobs/insurance-underwriter-64.html', 'https://realpython.github.io/fake-jobs/jobs/engineer-automotive-65.html', 'https://realpython.github.io/fake-jobs/jobs/producer-radio-66.html', 'https://realpython.github.io/fake-jobs/jobs/dispensing-optician-67.html', 'https://realpython.github.io/fake-jobs/jobs/designer-fashion-clothing-68.html', 'https://realpython.github.io/fake-jobs/jobs/chartered-loss-adjuster-69.html', 'https://realpython.github.io/fake-jobs/jobs/back-end-web-developer-python-django-70.html', 'https://realpython.github.io/fake-jobs/jobs/forest-woodland-manager-71.html', 'https://realpython.github.io/fake-jobs/jobs/clinical-cytogeneticist-72.html', 'https://realpython.github.io/fake-jobs/jobs/print-production-planner-73.html', 'https://realpython.github.io/fake-jobs/jobs/systems-developer-74.html', 'https://realpython.github.io/fake-jobs/jobs/graphic-designer-75.html', 'https://realpython.github.io/fake-jobs/jobs/writer-76.html', 'https://realpython.github.io/fake-jobs/jobs/field-seismologist-77.html', 'https://realpython.github.io/fake-jobs/jobs/chief-strategy-officer-78.html', 'https://realpython.github.io/fake-jobs/jobs/air-cabin-crew-79.html', 'https://realpython.github.io/fake-jobs/jobs/python-programmer-entry-level-80.html', 'https://realpython.github.io/fake-jobs/jobs/warden-ranger-81.html', 'https://realpython.github.io/fake-jobs/jobs/sports-therapist-82.html', 'https://realpython.github.io/fake-jobs/jobs/arts-development-officer-83.html', 'https://realpython.github.io/fake-jobs/jobs/printmaker-84.html', 'https://realpython.github.io/fake-jobs/jobs/health-and-safety-adviser-85.html', 'https://realpython.github.io/fake-jobs/jobs/manufacturing-systems-engineer-86.html', 'https://realpython.github.io/fake-jobs/jobs/programmer-applications-87.html', 'https://realpython.github.io/fake-jobs/jobs/medical-physicist-88.html', 'https://realpython.github.io/fake-jobs/jobs/media-planner-89.html', 'https://realpython.github.io/fake-jobs/jobs/software-developer-python-90.html', 'https://realpython.github.io/fake-jobs/jobs/surveyor-land-geomatics-91.html', 'https://realpython.github.io/fake-jobs/jobs/legal-executive-92.html', 'https://realpython.github.io/fake-jobs/jobs/librarian-academic-93.html', 'https://realpython.github.io/fake-jobs/jobs/barrister-94.html', 'https://realpython.github.io/fake-jobs/jobs/museum-gallery-exhibitions-officer-95.html', 'https://realpython.github.io/fake-jobs/jobs/radiographer-diagnostic-96.html', 'https://realpython.github.io/fake-jobs/jobs/database-administrator-97.html', 'https://realpython.github.io/fake-jobs/jobs/furniture-designer-98.html', 'https://realpython.github.io/fake-jobs/jobs/ship-broker-99.html']\n"
     ]
    }
   ],
   "source": [
    "all_link_tags = fake_python_soup.select('a.card-footer-item')\n",
    "all_link_hrefs = [link.get('href') for link in all_link_tags]\n",
    "apply_links_2 = [link for link in all_link_hrefs[1::2]]\n",
    "\n",
    "print(apply_links_1)\n",
    "print(apply_links_2)"
   ]
  },
  {
   "cell_type": "code",
   "execution_count": 110,
   "metadata": {},
   "outputs": [
    {
     "data": {
      "text/html": [
       "<div>\n",
       "<style scoped>\n",
       "    .dataframe tbody tr th:only-of-type {\n",
       "        vertical-align: middle;\n",
       "    }\n",
       "\n",
       "    .dataframe tbody tr th {\n",
       "        vertical-align: top;\n",
       "    }\n",
       "\n",
       "    .dataframe thead th {\n",
       "        text-align: right;\n",
       "    }\n",
       "</style>\n",
       "<table border=\"1\" class=\"dataframe\">\n",
       "  <thead>\n",
       "    <tr style=\"text-align: right;\">\n",
       "      <th></th>\n",
       "      <th>Job Title</th>\n",
       "      <th>Company Name</th>\n",
       "      <th>Location</th>\n",
       "      <th>Posting Date</th>\n",
       "      <th>Apply URL</th>\n",
       "    </tr>\n",
       "  </thead>\n",
       "  <tbody>\n",
       "    <tr>\n",
       "      <th>0</th>\n",
       "      <td>Senior Python Developer</td>\n",
       "      <td>Payne, Roberts and Davis</td>\n",
       "      <td>Stewartbury, AA</td>\n",
       "      <td>2021-04-08</td>\n",
       "      <td>https://realpython.github.io/fake-jobs/jobs/se...</td>\n",
       "    </tr>\n",
       "    <tr>\n",
       "      <th>1</th>\n",
       "      <td>Energy engineer</td>\n",
       "      <td>Vasquez-Davidson</td>\n",
       "      <td>Christopherville, AA</td>\n",
       "      <td>2021-04-08</td>\n",
       "      <td>https://realpython.github.io/fake-jobs/jobs/en...</td>\n",
       "    </tr>\n",
       "    <tr>\n",
       "      <th>2</th>\n",
       "      <td>Legal executive</td>\n",
       "      <td>Jackson, Chambers and Levy</td>\n",
       "      <td>Port Ericaburgh, AA</td>\n",
       "      <td>2021-04-08</td>\n",
       "      <td>https://realpython.github.io/fake-jobs/jobs/le...</td>\n",
       "    </tr>\n",
       "    <tr>\n",
       "      <th>3</th>\n",
       "      <td>Fitness centre manager</td>\n",
       "      <td>Savage-Bradley</td>\n",
       "      <td>East Seanview, AP</td>\n",
       "      <td>2021-04-08</td>\n",
       "      <td>https://realpython.github.io/fake-jobs/jobs/fi...</td>\n",
       "    </tr>\n",
       "    <tr>\n",
       "      <th>4</th>\n",
       "      <td>Product manager</td>\n",
       "      <td>Ramirez Inc</td>\n",
       "      <td>North Jamieview, AP</td>\n",
       "      <td>2021-04-08</td>\n",
       "      <td>https://realpython.github.io/fake-jobs/jobs/pr...</td>\n",
       "    </tr>\n",
       "    <tr>\n",
       "      <th>...</th>\n",
       "      <td>...</td>\n",
       "      <td>...</td>\n",
       "      <td>...</td>\n",
       "      <td>...</td>\n",
       "      <td>...</td>\n",
       "    </tr>\n",
       "    <tr>\n",
       "      <th>95</th>\n",
       "      <td>Museum/gallery exhibitions officer</td>\n",
       "      <td>Nguyen, Yoder and Petty</td>\n",
       "      <td>Lake Abigail, AE</td>\n",
       "      <td>2021-04-08</td>\n",
       "      <td>https://realpython.github.io/fake-jobs/jobs/mu...</td>\n",
       "    </tr>\n",
       "    <tr>\n",
       "      <th>96</th>\n",
       "      <td>Radiographer, diagnostic</td>\n",
       "      <td>Holder LLC</td>\n",
       "      <td>Jacobshire, AP</td>\n",
       "      <td>2021-04-08</td>\n",
       "      <td>https://realpython.github.io/fake-jobs/jobs/ra...</td>\n",
       "    </tr>\n",
       "    <tr>\n",
       "      <th>97</th>\n",
       "      <td>Database administrator</td>\n",
       "      <td>Yates-Ferguson</td>\n",
       "      <td>Port Susan, AE</td>\n",
       "      <td>2021-04-08</td>\n",
       "      <td>https://realpython.github.io/fake-jobs/jobs/da...</td>\n",
       "    </tr>\n",
       "    <tr>\n",
       "      <th>98</th>\n",
       "      <td>Furniture designer</td>\n",
       "      <td>Ortega-Lawrence</td>\n",
       "      <td>North Tiffany, AA</td>\n",
       "      <td>2021-04-08</td>\n",
       "      <td>https://realpython.github.io/fake-jobs/jobs/fu...</td>\n",
       "    </tr>\n",
       "    <tr>\n",
       "      <th>99</th>\n",
       "      <td>Ship broker</td>\n",
       "      <td>Fuentes, Walls and Castro</td>\n",
       "      <td>Michelleville, AP</td>\n",
       "      <td>2021-04-08</td>\n",
       "      <td>https://realpython.github.io/fake-jobs/jobs/sh...</td>\n",
       "    </tr>\n",
       "  </tbody>\n",
       "</table>\n",
       "<p>100 rows × 5 columns</p>\n",
       "</div>"
      ],
      "text/plain": [
       "                             Job Title                Company Name  \\\n",
       "0              Senior Python Developer    Payne, Roberts and Davis   \n",
       "1                      Energy engineer            Vasquez-Davidson   \n",
       "2                      Legal executive  Jackson, Chambers and Levy   \n",
       "3               Fitness centre manager              Savage-Bradley   \n",
       "4                      Product manager                 Ramirez Inc   \n",
       "..                                 ...                         ...   \n",
       "95  Museum/gallery exhibitions officer     Nguyen, Yoder and Petty   \n",
       "96            Radiographer, diagnostic                  Holder LLC   \n",
       "97              Database administrator              Yates-Ferguson   \n",
       "98                  Furniture designer             Ortega-Lawrence   \n",
       "99                         Ship broker   Fuentes, Walls and Castro   \n",
       "\n",
       "                Location Posting Date  \\\n",
       "0        Stewartbury, AA   2021-04-08   \n",
       "1   Christopherville, AA   2021-04-08   \n",
       "2    Port Ericaburgh, AA   2021-04-08   \n",
       "3      East Seanview, AP   2021-04-08   \n",
       "4    North Jamieview, AP   2021-04-08   \n",
       "..                   ...          ...   \n",
       "95      Lake Abigail, AE   2021-04-08   \n",
       "96        Jacobshire, AP   2021-04-08   \n",
       "97        Port Susan, AE   2021-04-08   \n",
       "98     North Tiffany, AA   2021-04-08   \n",
       "99     Michelleville, AP   2021-04-08   \n",
       "\n",
       "                                            Apply URL  \n",
       "0   https://realpython.github.io/fake-jobs/jobs/se...  \n",
       "1   https://realpython.github.io/fake-jobs/jobs/en...  \n",
       "2   https://realpython.github.io/fake-jobs/jobs/le...  \n",
       "3   https://realpython.github.io/fake-jobs/jobs/fi...  \n",
       "4   https://realpython.github.io/fake-jobs/jobs/pr...  \n",
       "..                                                ...  \n",
       "95  https://realpython.github.io/fake-jobs/jobs/mu...  \n",
       "96  https://realpython.github.io/fake-jobs/jobs/ra...  \n",
       "97  https://realpython.github.io/fake-jobs/jobs/da...  \n",
       "98  https://realpython.github.io/fake-jobs/jobs/fu...  \n",
       "99  https://realpython.github.io/fake-jobs/jobs/sh...  \n",
       "\n",
       "[100 rows x 5 columns]"
      ]
     },
     "execution_count": 110,
     "metadata": {},
     "output_type": "execute_result"
    }
   ],
   "source": [
    "# Add a new column to the fake_python_jobs_df dataframe called 'Apply URL'\n",
    "fake_python_jobs_df['Apply URL'] = apply_links_1\n",
    "\n",
    "fake_python_jobs_df"
   ]
  },
  {
   "attachments": {},
   "cell_type": "markdown",
   "metadata": {},
   "source": [
    "<h3>3. Finally, we want to get the job description text for each job.</h3>"
   ]
  },
  {
   "attachments": {},
   "cell_type": "markdown",
   "metadata": {},
   "source": [
    "<h4>Start by looking at the page for the first job, https://realpython.github.io/fake-jobs/jobs/senior-python-developer-0.html. Using BeautifulSoup, extract the job description paragraph.</h4>"
   ]
  },
  {
   "cell_type": "code",
   "execution_count": 111,
   "metadata": {},
   "outputs": [
    {
     "name": "stdout",
     "output_type": "stream",
     "text": [
      "Professional asset web application environmentally friendly detail-oriented asset. Coordinate educational dashboard agile employ growth opportunity. Company programs CSS explore role. Html educational grit web application. Oversea SCRUM talented support. Web Application fast-growing communities inclusive programs job CSS. Css discussions growth opportunity explore open-minded oversee. Css Python environmentally friendly collaborate inclusive role. Django no experience oversee dashboard environmentally friendly willing to learn programs. Programs open-minded programs asset.\n"
     ]
    }
   ],
   "source": [
    "FIRST_JOB_DESCRIPTION_URL = 'https://realpython.github.io/fake-jobs/jobs/senior-python-developer-0.html'\n",
    "\n",
    "response = requests.get(FIRST_JOB_DESCRIPTION_URL)\n",
    "\n",
    "fake_python_first_job_soup = bs(response.text)\n",
    "\n",
    "job_description_content = fake_python_first_job_soup.find('div', attrs={'class' : 'content'}).findChild('p').text.strip()\n",
    "\n",
    "print(job_description_content)"
   ]
  },
  {
   "attachments": {},
   "cell_type": "markdown",
   "metadata": {},
   "source": [
    "<h4>We want to be able to do this for all pages. Write a function which takes as input a url and returns the description text on that page. For example, if you input \"https://realpython.github.io/fake-jobs/jobs/television-floor-manager-8.html\" into your function, it should return the string \"At be than always different American address. Former claim chance prevent why measure too. Almost before some military outside baby interview. Face top individual win suddenly. Parent do ten after those scientist. Medical effort assume teacher wall. Significant his himself clearly very. Expert stop area along individual. Three own bank recognize special good along.\".</h4>"
   ]
  },
  {
   "cell_type": "code",
   "execution_count": 112,
   "metadata": {},
   "outputs": [],
   "source": [
    "def extract_job_description(url):\n",
    "    response = requests.get(url)\n",
    "    soup = bs(response.text)\n",
    "    job_description_content = soup.find('div', attrs={'class' : 'content'}).findChild('p').text.strip()\n",
    "    return job_description_content"
   ]
  },
  {
   "attachments": {},
   "cell_type": "markdown",
   "metadata": {},
   "source": [
    "<h4>Use the .apply method on the url column you created above to retrieve the description text for all of the jobs.</h4>"
   ]
  },
  {
   "cell_type": "code",
   "execution_count": 113,
   "metadata": {},
   "outputs": [
    {
     "data": {
      "text/html": [
       "<div>\n",
       "<style scoped>\n",
       "    .dataframe tbody tr th:only-of-type {\n",
       "        vertical-align: middle;\n",
       "    }\n",
       "\n",
       "    .dataframe tbody tr th {\n",
       "        vertical-align: top;\n",
       "    }\n",
       "\n",
       "    .dataframe thead th {\n",
       "        text-align: right;\n",
       "    }\n",
       "</style>\n",
       "<table border=\"1\" class=\"dataframe\">\n",
       "  <thead>\n",
       "    <tr style=\"text-align: right;\">\n",
       "      <th></th>\n",
       "      <th>Job Title</th>\n",
       "      <th>Company Name</th>\n",
       "      <th>Location</th>\n",
       "      <th>Posting Date</th>\n",
       "      <th>Apply URL</th>\n",
       "      <th>Job Description</th>\n",
       "    </tr>\n",
       "  </thead>\n",
       "  <tbody>\n",
       "    <tr>\n",
       "      <th>0</th>\n",
       "      <td>Senior Python Developer</td>\n",
       "      <td>Payne, Roberts and Davis</td>\n",
       "      <td>Stewartbury, AA</td>\n",
       "      <td>2021-04-08</td>\n",
       "      <td>https://realpython.github.io/fake-jobs/jobs/se...</td>\n",
       "      <td>Professional asset web application environment...</td>\n",
       "    </tr>\n",
       "    <tr>\n",
       "      <th>1</th>\n",
       "      <td>Energy engineer</td>\n",
       "      <td>Vasquez-Davidson</td>\n",
       "      <td>Christopherville, AA</td>\n",
       "      <td>2021-04-08</td>\n",
       "      <td>https://realpython.github.io/fake-jobs/jobs/en...</td>\n",
       "      <td>Party prevent live. Quickly candidate change a...</td>\n",
       "    </tr>\n",
       "    <tr>\n",
       "      <th>2</th>\n",
       "      <td>Legal executive</td>\n",
       "      <td>Jackson, Chambers and Levy</td>\n",
       "      <td>Port Ericaburgh, AA</td>\n",
       "      <td>2021-04-08</td>\n",
       "      <td>https://realpython.github.io/fake-jobs/jobs/le...</td>\n",
       "      <td>Administration even relate head color. Staff b...</td>\n",
       "    </tr>\n",
       "    <tr>\n",
       "      <th>3</th>\n",
       "      <td>Fitness centre manager</td>\n",
       "      <td>Savage-Bradley</td>\n",
       "      <td>East Seanview, AP</td>\n",
       "      <td>2021-04-08</td>\n",
       "      <td>https://realpython.github.io/fake-jobs/jobs/fi...</td>\n",
       "      <td>Tv program actually race tonight themselves tr...</td>\n",
       "    </tr>\n",
       "    <tr>\n",
       "      <th>4</th>\n",
       "      <td>Product manager</td>\n",
       "      <td>Ramirez Inc</td>\n",
       "      <td>North Jamieview, AP</td>\n",
       "      <td>2021-04-08</td>\n",
       "      <td>https://realpython.github.io/fake-jobs/jobs/pr...</td>\n",
       "      <td>Traditional page a although for study anyone. ...</td>\n",
       "    </tr>\n",
       "    <tr>\n",
       "      <th>...</th>\n",
       "      <td>...</td>\n",
       "      <td>...</td>\n",
       "      <td>...</td>\n",
       "      <td>...</td>\n",
       "      <td>...</td>\n",
       "      <td>...</td>\n",
       "    </tr>\n",
       "    <tr>\n",
       "      <th>95</th>\n",
       "      <td>Museum/gallery exhibitions officer</td>\n",
       "      <td>Nguyen, Yoder and Petty</td>\n",
       "      <td>Lake Abigail, AE</td>\n",
       "      <td>2021-04-08</td>\n",
       "      <td>https://realpython.github.io/fake-jobs/jobs/mu...</td>\n",
       "      <td>Paper age physical current note. There reality...</td>\n",
       "    </tr>\n",
       "    <tr>\n",
       "      <th>96</th>\n",
       "      <td>Radiographer, diagnostic</td>\n",
       "      <td>Holder LLC</td>\n",
       "      <td>Jacobshire, AP</td>\n",
       "      <td>2021-04-08</td>\n",
       "      <td>https://realpython.github.io/fake-jobs/jobs/ra...</td>\n",
       "      <td>Able such right culture. Wrong pick structure ...</td>\n",
       "    </tr>\n",
       "    <tr>\n",
       "      <th>97</th>\n",
       "      <td>Database administrator</td>\n",
       "      <td>Yates-Ferguson</td>\n",
       "      <td>Port Susan, AE</td>\n",
       "      <td>2021-04-08</td>\n",
       "      <td>https://realpython.github.io/fake-jobs/jobs/da...</td>\n",
       "      <td>Create day party decade high clear. Past trade...</td>\n",
       "    </tr>\n",
       "    <tr>\n",
       "      <th>98</th>\n",
       "      <td>Furniture designer</td>\n",
       "      <td>Ortega-Lawrence</td>\n",
       "      <td>North Tiffany, AA</td>\n",
       "      <td>2021-04-08</td>\n",
       "      <td>https://realpython.github.io/fake-jobs/jobs/fu...</td>\n",
       "      <td>Pressure under rock next week. Recognize so re...</td>\n",
       "    </tr>\n",
       "    <tr>\n",
       "      <th>99</th>\n",
       "      <td>Ship broker</td>\n",
       "      <td>Fuentes, Walls and Castro</td>\n",
       "      <td>Michelleville, AP</td>\n",
       "      <td>2021-04-08</td>\n",
       "      <td>https://realpython.github.io/fake-jobs/jobs/sh...</td>\n",
       "      <td>Management common popular project only. Must s...</td>\n",
       "    </tr>\n",
       "  </tbody>\n",
       "</table>\n",
       "<p>100 rows × 6 columns</p>\n",
       "</div>"
      ],
      "text/plain": [
       "                             Job Title                Company Name  \\\n",
       "0              Senior Python Developer    Payne, Roberts and Davis   \n",
       "1                      Energy engineer            Vasquez-Davidson   \n",
       "2                      Legal executive  Jackson, Chambers and Levy   \n",
       "3               Fitness centre manager              Savage-Bradley   \n",
       "4                      Product manager                 Ramirez Inc   \n",
       "..                                 ...                         ...   \n",
       "95  Museum/gallery exhibitions officer     Nguyen, Yoder and Petty   \n",
       "96            Radiographer, diagnostic                  Holder LLC   \n",
       "97              Database administrator              Yates-Ferguson   \n",
       "98                  Furniture designer             Ortega-Lawrence   \n",
       "99                         Ship broker   Fuentes, Walls and Castro   \n",
       "\n",
       "                Location Posting Date  \\\n",
       "0        Stewartbury, AA   2021-04-08   \n",
       "1   Christopherville, AA   2021-04-08   \n",
       "2    Port Ericaburgh, AA   2021-04-08   \n",
       "3      East Seanview, AP   2021-04-08   \n",
       "4    North Jamieview, AP   2021-04-08   \n",
       "..                   ...          ...   \n",
       "95      Lake Abigail, AE   2021-04-08   \n",
       "96        Jacobshire, AP   2021-04-08   \n",
       "97        Port Susan, AE   2021-04-08   \n",
       "98     North Tiffany, AA   2021-04-08   \n",
       "99     Michelleville, AP   2021-04-08   \n",
       "\n",
       "                                            Apply URL  \\\n",
       "0   https://realpython.github.io/fake-jobs/jobs/se...   \n",
       "1   https://realpython.github.io/fake-jobs/jobs/en...   \n",
       "2   https://realpython.github.io/fake-jobs/jobs/le...   \n",
       "3   https://realpython.github.io/fake-jobs/jobs/fi...   \n",
       "4   https://realpython.github.io/fake-jobs/jobs/pr...   \n",
       "..                                                ...   \n",
       "95  https://realpython.github.io/fake-jobs/jobs/mu...   \n",
       "96  https://realpython.github.io/fake-jobs/jobs/ra...   \n",
       "97  https://realpython.github.io/fake-jobs/jobs/da...   \n",
       "98  https://realpython.github.io/fake-jobs/jobs/fu...   \n",
       "99  https://realpython.github.io/fake-jobs/jobs/sh...   \n",
       "\n",
       "                                      Job Description  \n",
       "0   Professional asset web application environment...  \n",
       "1   Party prevent live. Quickly candidate change a...  \n",
       "2   Administration even relate head color. Staff b...  \n",
       "3   Tv program actually race tonight themselves tr...  \n",
       "4   Traditional page a although for study anyone. ...  \n",
       "..                                                ...  \n",
       "95  Paper age physical current note. There reality...  \n",
       "96  Able such right culture. Wrong pick structure ...  \n",
       "97  Create day party decade high clear. Past trade...  \n",
       "98  Pressure under rock next week. Recognize so re...  \n",
       "99  Management common popular project only. Must s...  \n",
       "\n",
       "[100 rows x 6 columns]"
      ]
     },
     "execution_count": 113,
     "metadata": {},
     "output_type": "execute_result"
    }
   ],
   "source": [
    "fake_python_jobs_df['Job Description'] = fake_python_jobs_df['Apply URL'].apply(extract_job_description)\n",
    "\n",
    "fake_python_jobs_df"
   ]
  }
 ],
 "metadata": {
  "kernelspec": {
   "display_name": "base",
   "language": "python",
   "name": "python3"
  },
  "language_info": {
   "codemirror_mode": {
    "name": "ipython",
    "version": 3
   },
   "file_extension": ".py",
   "mimetype": "text/x-python",
   "name": "python",
   "nbconvert_exporter": "python",
   "pygments_lexer": "ipython3",
   "version": "3.10.9"
  },
  "orig_nbformat": 4
 },
 "nbformat": 4,
 "nbformat_minor": 2
}
