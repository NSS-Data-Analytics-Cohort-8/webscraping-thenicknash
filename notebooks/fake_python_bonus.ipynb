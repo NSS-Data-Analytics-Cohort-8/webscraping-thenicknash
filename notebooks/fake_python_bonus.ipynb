{
 "cells": [
  {
   "cell_type": "markdown",
   "metadata": {},
   "source": [
    "<h1>Fake Python Web Scraping Bonus</h1>"
   ]
  },
  {
   "cell_type": "code",
   "execution_count": 1,
   "metadata": {},
   "outputs": [],
   "source": [
    "from bs4 import BeautifulSoup as bs\n",
    "import pandas as pd\n",
    "import requests"
   ]
  },
  {
   "cell_type": "markdown",
   "metadata": {},
   "source": [
    "<h3>1. Navigate to https://www.billboard.com/charts/hot-100/. Using BeautifulSoup, extract out the This Week, artist, song, Last Week, Peak Position, and Weeks on Chart values into a pandas DataFrame. Hint: The HTML for the number one ranked song is slightly different from that of the rest of the songs.</h3>"
   ]
  },
  {
   "cell_type": "code",
   "execution_count": 2,
   "metadata": {},
   "outputs": [],
   "source": [
    "url = 'https://www.billboard.com/charts/hot-100/'\n",
    "response = requests.get(url)\n",
    "soup = bs(response.text)"
   ]
  },
  {
   "cell_type": "code",
   "execution_count": 17,
   "metadata": {},
   "outputs": [
    {
     "name": "stdout",
     "output_type": "stream",
     "text": [
      "  this_week                       artist             song last_week  \\\n",
      "0         1                Morgan Wallen       Last Night         1   \n",
      "1         2                          SZA        Kill Bill         2   \n",
      "2         3                  Miley Cyrus          Flowers         3   \n",
      "3         4  Eslabon Armado X Peso Pluma  Ella Baila Sola         4   \n",
      "4         5          Rema & Selena Gomez        Calm Down         6   \n",
      "\n",
      "  peak_position weeks_on_chart  \n",
      "0             1             14  \n",
      "1             1             21  \n",
      "2             1             16  \n",
      "3             4              7  \n",
      "4             5             35  \n"
     ]
    }
   ],
   "source": [
    "this_week_rows = soup.findAll('ul', {'class': 'o-chart-results-list-row'})\n",
    "this_week_positions = [item.findChild('li').findChild('span').text.strip() for item in this_week_rows]\n",
    "\n",
    "# ARTISTS\n",
    "artist_rows = soup.select('ul.o-chart-results-list-row > li:nth-child(4) > ul > li:nth-child(1) > span')\n",
    "artists = [artist.text.strip() for artist in artist_rows]\n",
    "\n",
    "# SONGS\n",
    "song_rows = soup.select('ul.o-chart-results-list-row > li:nth-child(4) > ul > li:nth-child(1) > h3')\n",
    "songs = [song.text.strip() for song in song_rows]\n",
    "\n",
    "# LAST WEEK\n",
    "last_week_rows = soup.select('ul.o-chart-results-list-row > li:nth-child(4) > ul > li:nth-child(4) > span')\n",
    "last_week_positions = [last_week.text.strip() for last_week in last_week_rows]\n",
    "\n",
    "# PEAK POSITION\n",
    "peak_position_rows = soup.select('ul.o-chart-results-list-row > li:nth-child(4) > ul > li:nth-child(5) > span')\n",
    "peak_positions = [peak_position.text.strip() for peak_position in peak_position_rows]\n",
    "\n",
    "# WEEKS ON CHART\n",
    "weeks_on_chart_rows = soup.select('ul.o-chart-results-list-row > li:nth-child(4) > ul > li:nth-child(6) > span')\n",
    "weeks_on_chart = [weeks_on_chart.text.strip() for weeks_on_chart in weeks_on_chart_rows]\n",
    "\n",
    "# Create a dataframe with the extracted data\n",
    "billboard_df = pd.DataFrame({\n",
    "    'this_week': this_week_positions,\n",
    "    'artist': artists,\n",
    "    'song': songs,\n",
    "    'last_week': last_week_positions,\n",
    "    'peak_position': peak_positions,\n",
    "    'weeks_on_chart': weeks_on_chart\n",
    "})\n",
    "\n",
    "print(billboard_df.head())\n"
   ]
  },
  {
   "attachments": {},
   "cell_type": "markdown",
   "metadata": {},
   "source": [
    "<h3>2. After getting the code working for the current chart, navigate to last week's chart. Notice how the url for the page changes. Write a function which will, given a date, return a pandas DataFrame containing the Billboard chart data for that date.</h3>"
   ]
  },
  {
   "cell_type": "code",
   "execution_count": 19,
   "metadata": {},
   "outputs": [],
   "source": [
    "def get_billboard_chart_data(url):\n",
    "    # Get the response from the URL\n",
    "    response = requests.get(url)\n",
    "    soup = bs(response.text)\n",
    "\n",
    "    # Get the list of rows\n",
    "    this_week_rows = soup.findAll('ul', {'class': 'o-chart-results-list-row'})\n",
    "\n",
    "    # Get the list of positions\n",
    "    this_week_positions = [item.findChild('li').findChild('span').text.strip() for item in this_week_rows]\n",
    "\n",
    "    # Get the list of artists\n",
    "    artist_rows = soup.select('ul.o-chart-results-list-row > li:nth-child(4) > ul > li:nth-child(1) > span')\n",
    "    artists = [artist.text.strip() for artist in artist_rows]\n",
    "\n",
    "    # Get the list of songs\n",
    "    song_rows = soup.select('ul.o-chart-results-list-row > li:nth-child(4) > ul > li:nth-child(1) > h3')\n",
    "    songs = [song.text.strip() for song in song_rows]\n",
    "\n",
    "    # Get the list of last week positions\n",
    "    last_week_rows = soup.select('ul.o-chart-results-list-row > li:nth-child(4) > ul > li:nth-child(4) > span')\n",
    "    last_week_positions = [last_week.text.strip() for last_week in last_week_rows]\n",
    "\n",
    "    # Get the list of peak positions\n",
    "    peak_position_rows = soup.select('ul.o-chart-results-list-row > li:nth-child(4) > ul > li:nth-child(5) > span')\n",
    "    peak_positions = [peak_position.text.strip() for peak_position in peak_position_rows]\n",
    "\n",
    "    # Get the list of weeks on chart\n",
    "    weeks_on_chart_rows = soup.select('ul.o-chart-results-list-row > li:nth-child(4) > ul > li:nth-child(6) > span')\n",
    "    weeks_on_chart = [weeks_on_chart.text.strip() for weeks_on_chart in weeks_on_chart_rows]\n",
    "\n",
    "    # Create a dataframe with the extracted data\n",
    "    billboard_df = pd.DataFrame({\n",
    "        'this_week': this_week_positions,\n",
    "        'artist': artists,\n",
    "        'song': songs,\n",
    "        'last_week': last_week_positions,\n",
    "        'peak_position': peak_positions,\n",
    "        'weeks_on_chart': weeks_on_chart\n",
    "    })\n",
    "\n",
    "    return billboard_df"
   ]
  },
  {
   "cell_type": "code",
   "execution_count": 22,
   "metadata": {},
   "outputs": [
    {
     "name": "stdout",
     "output_type": "stream",
     "text": [
      "  this_week                                artist                 song  \\\n",
      "0         1                           Miley Cyrus              Flowers   \n",
      "1         2                                   SZA            Kill Bill   \n",
      "2         3            PinkPantheress & Ice Spice  Boy's A Liar, Pt. 2   \n",
      "3         4  Metro Boomin, The Weeknd & 21 Savage             Creepin'   \n",
      "4         5                         Morgan Wallen           Last Night   \n",
      "\n",
      "  last_week peak_position weeks_on_chart  \n",
      "0         1             1              6  \n",
      "1         2             2             11  \n",
      "2         4             3              3  \n",
      "3         3             3             12  \n",
      "4         5             3              4  \n"
     ]
    }
   ],
   "source": [
    "billboard_df = get_billboard_chart_data('https://www.billboard.com/charts/hot-100/2023-03-04/')\n",
    "print(billboard_df.head())"
   ]
  },
  {
   "attachments": {},
   "cell_type": "markdown",
   "metadata": {},
   "source": [
    "<h3>3. Write a loop to retrieve the Billboard chart data for the last 10 weeks.</h3>"
   ]
  },
  {
   "cell_type": "code",
   "execution_count": 28,
   "metadata": {},
   "outputs": [],
   "source": [
    "# Function that finds the next closest Saturday\n",
    "def get_next_saturday(date):\n",
    "    # If the date is a Saturday, return the date\n",
    "    if date.weekday() == 5:\n",
    "        return date\n",
    "    # Otherwise, return the next Saturday\n",
    "    else:\n",
    "        return date + pd.Timedelta((5 - date.weekday()) % 7, unit='d')"
   ]
  },
  {
   "cell_type": "code",
   "execution_count": 52,
   "metadata": {},
   "outputs": [
    {
     "name": "stdout",
     "output_type": "stream",
     "text": [
      "iteration: 0\n",
      "Initial previous date: 2023-05-13 19:40:52.292033\n",
      "Date: 2023-05-13 19:40:52.292033\n",
      "Previous date: 2023-05-13 19:40:52.292033\n",
      "URL: https://www.billboard.com/charts/hot-100/2023-05-13\n",
      "  this_week                       artist             song last_week  \\\n",
      "0         1                Morgan Wallen       Last Night         1   \n",
      "1         2                          SZA        Kill Bill         2   \n",
      "2         3                  Miley Cyrus          Flowers         3   \n",
      "3         4  Eslabon Armado X Peso Pluma  Ella Baila Sola         4   \n",
      "4         5          Rema & Selena Gomez        Calm Down         6   \n",
      "\n",
      "  peak_position weeks_on_chart  \n",
      "0             1             14  \n",
      "1             1             21  \n",
      "2             1             16  \n",
      "3             4              7  \n",
      "4             5             35  \n",
      "iteration: 1\n",
      "Initial previous date: 2023-05-13 19:40:52.292033\n",
      "Date: 2023-05-06 19:40:52.292033\n",
      "Previous date: 2023-05-13 19:40:52.292033\n",
      "URL: https://www.billboard.com/charts/hot-100/2023-05-06\n",
      "  this_week                       artist             song last_week  \\\n",
      "0         1                Morgan Wallen       Last Night         2   \n",
      "1         2                          SZA        Kill Bill         1   \n",
      "2         3                  Miley Cyrus          Flowers         3   \n",
      "3         4  Eslabon Armado X Peso Pluma  Ella Baila Sola         5   \n",
      "4         5   Grupo Frontera X Bad Bunny        Un x100to        15   \n",
      "\n",
      "  peak_position weeks_on_chart  \n",
      "0             1             13  \n",
      "1             1             20  \n",
      "2             1             15  \n",
      "3             4              6  \n",
      "4             5              2  \n",
      "iteration: 2\n",
      "Initial previous date: 2023-05-13 19:40:52.292033\n",
      "Date: 2023-04-29 19:40:52.292033\n",
      "Previous date: 2023-05-13 19:40:52.292033\n",
      "URL: https://www.billboard.com/charts/hot-100/2023-04-29\n",
      "  this_week                       artist             song last_week  \\\n",
      "0         1                          SZA        Kill Bill         4   \n",
      "1         2                Morgan Wallen       Last Night         1   \n",
      "2         3                  Miley Cyrus          Flowers         3   \n",
      "3         4      Ice Spice & Nicki Minaj   Princess Diana         -   \n",
      "4         5  Eslabon Armado X Peso Pluma  Ella Baila Sola        10   \n",
      "\n",
      "  peak_position weeks_on_chart  \n",
      "0             1             19  \n",
      "1             1             12  \n",
      "2             1             14  \n",
      "3             4              1  \n",
      "4             5              5  \n",
      "iteration: 3\n",
      "Initial previous date: 2023-05-13 19:40:52.292033\n",
      "Date: 2023-04-22 19:40:52.292033\n",
      "Previous date: 2023-05-13 19:40:52.292033\n",
      "URL: https://www.billboard.com/charts/hot-100/2023-04-22\n",
      "  this_week                                artist             song last_week  \\\n",
      "0         1                         Morgan Wallen       Last Night         1   \n",
      "1         2                                 Drake  Search & Rescue         -   \n",
      "2         3                           Miley Cyrus          Flowers         3   \n",
      "3         4                                   SZA        Kill Bill         2   \n",
      "4         5  Metro Boomin, The Weeknd & 21 Savage         Creepin'         4   \n",
      "\n",
      "  peak_position weeks_on_chart  \n",
      "0             1             11  \n",
      "1             2              1  \n",
      "2             1             13  \n",
      "3             2             18  \n",
      "4             3             19  \n"
     ]
    }
   ],
   "source": [
    "# Last 10 weeks dataframe\n",
    "past_10_weeks_billboard_df = pd.DataFrame()\n",
    "\n",
    "saturday_date = get_next_saturday(pd.to_datetime('today'))\n",
    "previous_date = saturday_date\n",
    "\n",
    "# Loop through the past 10 weeks\n",
    "for i in range(4):\n",
    "\n",
    "    print('iteration: ' + str(i))\n",
    "    print('Initial previous date: ' + str(previous_date))\n",
    "\n",
    "    # Get and update the date\n",
    "    if i == 0:\n",
    "        date = saturday_date\n",
    "    else:\n",
    "        # Subtract a week from the latest date\n",
    "        date = saturday_date - pd.DateOffset(weeks=i)\n",
    "\n",
    "    print('Date: ' + str(date))\n",
    "    print('Previous date: ' + str(previous_date))\n",
    "\n",
    "    # Get the URL\n",
    "    url = 'https://www.billboard.com/charts/hot-100/' + date.strftime('%Y-%m-%d')\n",
    "\n",
    "    print('URL: ' + url)\n",
    "\n",
    "    # Get the dataframe\n",
    "    billboard_df = get_billboard_chart_data(url)\n",
    "\n",
    "    # Append the dataframe to the past 10 weeks dataframe\n",
    "    past_10_weeks_billboard_df = pd.concat([past_10_weeks_billboard_df, billboard_df])"
   ]
  },
  {
   "cell_type": "markdown",
   "metadata": {},
   "source": []
  }
 ],
 "metadata": {
  "kernelspec": {
   "display_name": "base",
   "language": "python",
   "name": "python3"
  },
  "language_info": {
   "codemirror_mode": {
    "name": "ipython",
    "version": 3
   },
   "file_extension": ".py",
   "mimetype": "text/x-python",
   "name": "python",
   "nbconvert_exporter": "python",
   "pygments_lexer": "ipython3",
   "version": "3.10.9"
  },
  "orig_nbformat": 4
 },
 "nbformat": 4,
 "nbformat_minor": 2
}
